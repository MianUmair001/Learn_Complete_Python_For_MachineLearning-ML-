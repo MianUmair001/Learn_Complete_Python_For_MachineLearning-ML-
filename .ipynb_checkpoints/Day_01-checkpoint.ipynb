{
 "cells": [
  {
   "cell_type": "markdown",
   "metadata": {},
   "source": [
    "# Day_01 Datatypes(Variables & Operator)"
   ]
  },
  {
   "cell_type": "markdown",
   "metadata": {},
   "source": [
    "# Variables"
   ]
  },
  {
   "cell_type": "markdown",
   "metadata": {},
   "source": [
    "# Definition"
   ]
  },
  {
   "cell_type": "markdown",
   "metadata": {},
   "source": [
    "### A characteristic, number, or quantity that increases or decreases over time, or takes different values in different situations.\n",
    "### Two basic types\n",
    "### Independent variable: that can take different values and can cause corresponding changes in other variables. \n",
    "### Dependent variable: that can take different values only in response to an independent variable."
   ]
  },
  {
   "cell_type": "markdown",
   "metadata": {},
   "source": [
    "# Purpose"
   ]
  },
  {
   "cell_type": "markdown",
   "metadata": {},
   "source": [
    "### Variables are used to store information to be referenced and manipulated in a computer program. They also provide a way of labeling data with a descriptive name, so our programs can be understood more clearly by the reader and ourselves. It is helpful to think of variables as containers that hold information."
   ]
  },
  {
   "cell_type": "markdown",
   "metadata": {},
   "source": [
    "# Importance"
   ]
  },
  {
   "cell_type": "markdown",
   "metadata": {},
   "source": [
    "### Variables play an important role in computer programming because they enable programmers to write flexible programs. Rather than entering data directly into a program, a programmer can use variables to represent the data. The opposite of a variable is a constant. Constants are values that never change."
   ]
  },
  {
   "cell_type": "markdown",
   "metadata": {},
   "source": [
    "# Application"
   ]
  },
  {
   "cell_type": "markdown",
   "metadata": {},
   "source": [
    "### Variables are used in any computer program they are very usefull as they help to store many of the information such as names,list even the complete functions. \n",
    "### They are used in all of the Systems such as \"Library Management Sytem\",\"Database Management Sytem"
   ]
  },
  {
   "cell_type": "markdown",
   "metadata": {},
   "source": [
    "# Strengths"
   ]
  },
  {
   "cell_type": "markdown",
   "metadata": {},
   "source": [
    "### The greatest advantage of the variables is that they enable one and the same program to execute various sets of data. In the light of the afore-stated, a variable refers to a symbol for a varying value, which is stored in the system's memory.\n",
    "### They helps us in stoping the code repeation\n",
    "### They helps us better manage our code\n",
    "### If you use variables, you can make your code more clean and simple to you and others understand. Also, it's good practice.\n",
    "### I think you can add the variables you declare inside multiple functions. Whereas yours is a one time use scenario. I could be wrong though... Variables are used for storing data though, and then you can carry that variable over from one function to another."
   ]
  },
  {
   "cell_type": "markdown",
   "metadata": {},
   "source": [
    "# Weakness "
   ]
  },
  {
   "cell_type": "markdown",
   "metadata": {},
   "source": [
    "### The Biggest weakness of using hte variables in the python is that if a variable of string type is defined in a program and and you mistankkenly or forget taht you have already initalize that variable and you save the integer datatype in the variable the variable property will change and it will become the integer variable instead of string type. "
   ]
  },
  {
   "cell_type": "markdown",
   "metadata": {},
   "source": [
    "# Example 01 :\n",
    "# Task:\n",
    "   ## Create a Variable of String Type and save your Name inside it and print the Name and show that The datatype of the variables in the Python can be changed just by assigning value of different datatype to the variable"
   ]
  },
  {
   "cell_type": "code",
   "execution_count": 1,
   "metadata": {},
   "outputs": [
    {
     "name": "stdout",
     "output_type": "stream",
     "text": [
      "Muhammad Umair\n",
      "<class 'str'>\n",
      "5\n",
      "<class 'int'>\n"
     ]
    }
   ],
   "source": [
    "# Code\n",
    "Name=\"Muhammad Umair\"\n",
    "print(Name)\n",
    "print(type(Name))\n",
    "Name=5\n",
    "print(Name)\n",
    "print(type(Name))\n",
    "#Output"
   ]
  },
  {
   "cell_type": "markdown",
   "metadata": {},
   "source": [
    "# Example 02 :\n",
    "# Task:\n",
    "   ## Save your personal information into the four variables and print there value"
   ]
  },
  {
   "cell_type": "code",
   "execution_count": 2,
   "metadata": {},
   "outputs": [],
   "source": [
    "# Code \n",
    "age=20\n",
    "weight=65.2\n",
    "name=\"Muhammad Umair\"\n",
    "fatherName=\"Muhammad Akram\"\n"
   ]
  },
  {
   "cell_type": "code",
   "execution_count": 3,
   "metadata": {},
   "outputs": [
    {
     "name": "stdout",
     "output_type": "stream",
     "text": [
      "Muhammad Umair\n",
      "20\n",
      "Muhammad Akram\n",
      "65.2\n"
     ]
    }
   ],
   "source": [
    "# OutPut\n",
    "print(name)\n",
    "print(age)\n",
    "print(fatherName)\n",
    "print(weight)"
   ]
  },
  {
   "cell_type": "markdown",
   "metadata": {},
   "source": [
    "# Operator"
   ]
  },
  {
   "cell_type": "markdown",
   "metadata": {},
   "source": [
    "# Definition"
   ]
  },
  {
   "cell_type": "markdown",
   "metadata": {},
   "source": [
    "### An operator in a programming language is a symbol that tells the compiler or interpreter to perform specific mathematical, relational or logical operation and produce final result."
   ]
  },
  {
   "cell_type": "markdown",
   "metadata": {},
   "source": [
    "# Purpose"
   ]
  },
  {
   "cell_type": "markdown",
   "metadata": {},
   "source": [
    "### They are used to do many of the basic mathematical Computaion "
   ]
  },
  {
   "cell_type": "markdown",
   "metadata": {},
   "source": [
    "# Importance"
   ]
  },
  {
   "cell_type": "markdown",
   "metadata": {},
   "source": [
    "### Operators are very usefull in the programming language as they help us perform so many mathematical computaion and also the logival operators such as AND OR NOT they help us make the decisions onthe basis of certian condition"
   ]
  },
  {
   "cell_type": "markdown",
   "metadata": {},
   "source": [
    "# Application"
   ]
  },
  {
   "cell_type": "markdown",
   "metadata": {},
   "source": [
    "### There are numbers of applications of the opertors such as calculator program,computer program used in the banks to do computing on the money to calculate all the ups and downs in the money"
   ]
  },
  {
   "cell_type": "markdown",
   "metadata": {},
   "source": [
    "# Strengths"
   ]
  },
  {
   "cell_type": "markdown",
   "metadata": {},
   "source": [
    "### They helps us by reducing so much of our work as we cannot image how much of asembly language code we will have to write to simply add two numbers and it would be so difficult to do a AND,OR,NOT function"
   ]
  },
  {
   "cell_type": "markdown",
   "metadata": {},
   "source": [
    "# Weaknesses"
   ]
  },
  {
   "cell_type": "markdown",
   "metadata": {},
   "source": [
    "As they are simple math functions there are not any waekness of them. The only weakness of the them is how we use them if our own math or computation is wrong then they will perform wrong"
   ]
  },
  {
   "cell_type": "markdown",
   "metadata": {},
   "source": [
    "# Suitable to Use"
   ]
  },
  {
   "cell_type": "markdown",
   "metadata": {},
   "source": [
    "### They are suitable to use in any senario where you want to use the mathematical computaion or logical computation"
   ]
  },
  {
   "cell_type": "markdown",
   "metadata": {},
   "source": [
    "# Example 03 :\n",
    "# Task:\n",
    "   ## Take four variables of integer type and apply math operations on them"
   ]
  },
  {
   "cell_type": "code",
   "execution_count": 4,
   "metadata": {},
   "outputs": [],
   "source": [
    "# Code\n",
    "numberOne=10\n",
    "numberTwo=20\n",
    "numberThree=30.5\n",
    "numberFour=6.7"
   ]
  },
  {
   "cell_type": "code",
   "execution_count": 5,
   "metadata": {},
   "outputs": [
    {
     "data": {
      "text/plain": [
       "30"
      ]
     },
     "execution_count": 5,
     "metadata": {},
     "output_type": "execute_result"
    }
   ],
   "source": [
    "numberOne+numberTwo #Adding or subtracting two integer variables will return Integer"
   ]
  },
  {
   "cell_type": "code",
   "execution_count": 6,
   "metadata": {},
   "outputs": [
    {
     "data": {
      "text/plain": [
       "-10"
      ]
     },
     "execution_count": 6,
     "metadata": {},
     "output_type": "execute_result"
    }
   ],
   "source": [
    "numberOne-numberTwo "
   ]
  },
  {
   "cell_type": "code",
   "execution_count": 7,
   "metadata": {},
   "outputs": [
    {
     "data": {
      "text/plain": [
       "40.5"
      ]
     },
     "execution_count": 7,
     "metadata": {},
     "output_type": "execute_result"
    }
   ],
   "source": [
    "numberOne+numberThree #Adding One Integer and one float type variables will return the float "
   ]
  },
  {
   "cell_type": "code",
   "execution_count": 8,
   "metadata": {},
   "outputs": [
    {
     "data": {
      "text/plain": [
       "204.35"
      ]
     },
     "execution_count": 8,
     "metadata": {},
     "output_type": "execute_result"
    }
   ],
   "source": [
    "numberThree*numberFour #Multipling two variables of same datatype will return same Datatype"
   ]
  },
  {
   "cell_type": "code",
   "execution_count": 9,
   "metadata": {},
   "outputs": [
    {
     "data": {
      "text/plain": [
       "100"
      ]
     },
     "execution_count": 9,
     "metadata": {},
     "output_type": "execute_result"
    }
   ],
   "source": [
    "numberOne**2 #for exponent use baseNumber**exponent will return the exponent of base number to the power \n",
    "#for example 10^2=100\n",
    "\n",
    "\n"
   ]
  }
 ],
 "metadata": {
  "anaconda-cloud": {},
  "kernelspec": {
   "display_name": "Python 3",
   "language": "python",
   "name": "python3"
  },
  "language_info": {
   "codemirror_mode": {
    "name": "ipython",
    "version": 3
   },
   "file_extension": ".py",
   "mimetype": "text/x-python",
   "name": "python",
   "nbconvert_exporter": "python",
   "pygments_lexer": "ipython3",
   "version": "3.8.3"
  }
 },
 "nbformat": 4,
 "nbformat_minor": 4
}
